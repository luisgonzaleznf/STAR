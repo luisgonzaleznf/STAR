{
 "cells": [
  {
   "cell_type": "code",
   "execution_count": 1,
   "metadata": {},
   "outputs": [],
   "source": [
    "### INITIAL MESSAGE WITH GROK ###\n",
    "import sys\n",
    "sys.path.append('/mnt/c/Users/luisg/Desktop/STAR/STAR/scripts')\n",
    "\n",
    "# Now you can import grok as if it's in the same directory\n",
    "import grok\n",
    "\n",
    "# Example usage\n",
    "client = grok.initialize_grok_api()"
   ]
  },
  {
   "cell_type": "code",
   "execution_count": null,
   "metadata": {},
   "outputs": [],
   "source": [
    "# Extract summary from the folder\n",
    "summary_path = \"/mnt/c/Users/luisg/Desktop/STAR/STAR/examples/conversation_sample_2/chunks/summary.txt\"\n",
    "with open(summary_path, \"r\") as file:\n",
    "    summary = file.read()\n",
    "\n",
    "init_message = grok.generate_RAG_initial_message(client, summary)\n",
    "    \n",
    "print(init_message)"
   ]
  },
  {
   "cell_type": "code",
   "execution_count": 2,
   "metadata": {},
   "outputs": [
    {
     "name": "stdout",
     "output_type": "stream",
     "text": [
      "You are a RAG system chatbot responsible for transforming user questions into concise, neutral phrases that closely resemble the language and tone of the transcribed data. Your task is to output a JSON structure containing one or more sentences that match the length and neutrality of typical statements in the transcription. Avoid adding assumptions, personal opinions, or extra context not directly requested by the user.\n",
      "\n",
      "Each phrase should:\n",
      "\n",
      "1. Remain concise—aim for a length similar to short, informative statements.\n",
      "2. Be neutral in tone—avoid implied opinions or subjective language.\n",
      "3. Mirror the style of typical statements from the transcription summary.\n",
      "\n",
      "### Summary of the transcribed data ###\n",
      "\n",
      "**Resumen de la conversación en Español:**\n",
      "\n",
      "**Duración:** 0h 12m 50s  \n",
      "**Número de interlocutores:** 2  \n",
      "**Idioma:** Español\n",
      "\n",
      "**Temas Principales:**\n",
      "\n",
      "1. **Importancia de las Carreras STEM:** Se discute por qué las carreras relacionadas con la ciencia, tecnología, ingeniería y matemáticas (STEM) han ganado relevancia, mientras otras están en declive.\n",
      "\n",
      "2. **Clasificación de Estudiantes y Trabajadores:** Se divide a los estudiantes y trabajadores en cuatro grupos según su motivación y competencia:\n",
      "   - **Grupo 1:** Competentes y motivados (ideal).\n",
      "   - **Grupo 2:** Competentes pero poco motivados. \n",
      "   - **Grupo 3:** Motivados pero poco competentes.\n",
      "   - **Grupo 4:** Poco competentes y poco motivados.\n",
      "\n",
      "3. **Impacto de la Tecnología y Automatización:**\n",
      "   - Se menciona el aumento de la demanda de perfiles STEM debido a mejores condiciones laborales y el acceso a herramientas digitales.\n",
      "   - La automatización está reemplazando trabajos repetitivos, lo que afecta a la motivación y competencia de los trabajadores.\n",
      "\n",
      "4. **Desigualdades y Motivación:**\n",
      "   - Se aborda la desigualdad de género en las carreras STEM, particularmente en matemáticas e ingeniería.\n",
      "   - Se discute la falta de motivación para estudiar STEM a pesar de las buenas condiciones laborales.\n",
      "\n",
      "5. **Políticas y Soluciones:**\n",
      "   - Propuesta de adaptar el número de plazas universitarias a la demanda del mercado.\n",
      "   - Necesidad de políticas para motivar y capacitar a los trabajadores afectados por la automatización.\n",
      "   - Se menciona la posibilidad de implementar una renta básica universal como solución para aquellos que pierden sus empleos debido a la automatización.\n",
      "\n",
      "**Conclusión y Próximos Pasos:**\n",
      "\n",
      "- Se sugiere que las empresas deben enfocarse en mantener la motivación y competencia de los empleados en el Grupo 1 y 2.\n",
      "- Para el Grupo 3, se propone programas de formación para aumentar la competencia.\n",
      "- Para el Grupo 4, se debate la implementación de la renta básica universal como una medida para evitar el desempleo masivo debido a la automatización.\n",
      "\n",
      "**Contexto Adicional:**\n",
      "La conversación se desarrolla entre dos personas, Lidia y Luis, quienes están explorando las dinámicas del mercado laboral actual, la importancia de las carreras STEM, y cómo las empresas y el estado deben responder a los cambios tecnológicos y de mercado. Se concluye que es esencial adaptar la educación y las políticas laborales para alinearse con las tendencias del mercado y las necesidades de los trabajadores.\n",
      "\n",
      "### Here is a sample of what the conversation looks like, for you to have an idea of the phrases or keywords you need to generate ###\n",
      " \n",
      "LIDIA (0:00.00 - 0:08.43):  Venga. Vale, se plantea la cuestión de por qué hay ciertas carreras, sobre todo las  tecnológicas, las STEM, ahora han cobrado más importancia, dejando a otras en declive  en estos últimos años. Vale. No lo tienes por qué hacer bien, es una conversación. Venga, cuéntamelo.  Vale, bueno, hemos estructurado las carreras en cuatro grupos, o sea, tenemos cuatro grupos  claramente…\n",
      "LUIS (0:37.11 - 0:39.11):  De estudiantes, no de carreras.\n",
      "LIDIA (0:39.11 - 0:46.00):  Estudiantes o trabajadores. En todas las organizaciones, vamos a decir, tanto universidades como empresas,  diferenciamos cuatro grupos que son los que vienen diferenciados principalmente por la motivación  y por los conocimientos o competencias que tiene cada uno.  Tenemos los primeros que son los que dicen o piensan, bueno, los que tienen las competencias  y les gusta lo que hacen, es decir, se me da bien y me gusta.\n",
      "LUIS (1:06.51 - 1:12.15):  O sea, tenemos un grupo que sería el empleo perfecto, los que se te hagan bien y además les  gusta estar motivados con el tema, ¿vale? Segundo grupo.\n",
      "LIDIA (1:14.95 - 1:24.04):  Estos son los vocacionales, que son los que define Karl Newport en su libro de no sé qué,  que ahora lo leeré.  Esta es tu primera referencia. Sí. De Karl Newport. en su libro de no sé qué, que ahora lo leeré.\n",
      "LUIS (1:25.00 - 1:27.00):  Esta es tu primera referencia.\n",
      "LIDIA (1:27.00 - 1:28.00):  Sí.  De Carl Newport.  Sí.  Pues que los define como aquellos que están centrados en su trabajo, por lo tanto aumentan  su productividad.  Son los trabajadores profundos.  Es que tendría que explicar un poco más lo de...  Cariño, tienes cuatro minutos. Ya, pero tengo que explicar un poco más eso.  Que en su estudio se focaliza en la importancia de estar conectado en un mundo con tantos  estímulos y tantos cambios. Eso también lo dice ahí.  Claro, porque si no estás conectado estás en el limbo. Si estás en el limbo, no haces...  ¿Conectado o concentrado?  Conectado es concentrado en lo que haces.  En lo que haces y además te gusta.  Bueno, este es el talento que les interesa a las empresas retener principalmente.  Luego...  Claro, las empresas tienen que trabajar en este grupo para mantener esa motivación  y esos conocimientos.  Luego tenemos el segundo grupo, que es donde más ha impactado el auge de la tecnología  y ha hecho que en este grupo se aumente la motivación por estudiar carreras STEM,  que son los que tienen las competencias adecuadas, pero a lo mejor no están tan convencidos de si les gusta o no  y...\n",
      "\n",
      "\n",
      "###Here is the question of the user ###\n",
      " \n",
      "¿Cuál es la opinión de Luis con respecto a la automatización de los puestos?\n",
      "```json\n",
      "{\n",
      "  \"phrases\": [\n",
      "    \"Luis comenta que la automatización está reemplazando trabajos repetitivos.\",\n",
      "    \"Luis menciona que la automatización afecta la motivación y competencia de los trabajadores.\"\n",
      "  ]\n",
      "}\n",
      "```\n"
     ]
    }
   ],
   "source": [
    "user_question = \"¿Cuál es la opinión de Luis con respecto a la automatización de los puestos?\"\n",
    "\n",
    "# Extract summary from the folder\n",
    "summary_path = \"/mnt/c/Users/luisg/Desktop/STAR/STAR/examples/conversation_sample_2/chunks/summary.txt\"\n",
    "with open(summary_path, \"r\") as file:\n",
    "    summary = file.read()\n",
    "\n",
    "# Extract summary from the folder\n",
    "chunk_1_path = \"/mnt/c/Users/luisg/Desktop/STAR/STAR/examples/conversation_sample_2/chunks/1.txt\"\n",
    "with open(chunk_1_path, \"r\") as file:\n",
    "    chunk_1 = file.read()\n",
    "\n",
    "rag_phrases_json = grok.generate_RAG_phrases(client, user_question, summary, chunk_1)\n",
    "\n",
    "print(rag_phrases_json)"
   ]
  },
  {
   "cell_type": "code",
   "execution_count": 3,
   "metadata": {},
   "outputs": [
    {
     "name": "stdout",
     "output_type": "stream",
     "text": [
      "```json\n",
      "{\n",
      "  \"phrases\": [\n",
      "    \"Luis comenta que la automatización está reemplazando trabajos repetitivos.\",\n",
      "    \"Luis menciona que la automatización afecta la motivación y competencia de los trabajadores.\"\n",
      "  ]\n",
      "}\n",
      "```\n"
     ]
    }
   ],
   "source": [
    "print(rag_phrases_json)"
   ]
  },
  {
   "cell_type": "code",
   "execution_count": 7,
   "metadata": {},
   "outputs": [],
   "source": [
    "import json\n",
    "import re\n",
    "\n",
    "def extract_phrases_from_json(json_string):\n",
    "    \"\"\"\n",
    "    Extracts the list of phrases from a JSON structure embedded in a string,\n",
    "    allowing for cases where there are code block markers and a different key name.\n",
    "    \n",
    "    Parameters:\n",
    "    json_string (str): A string containing a JSON structure with \"phrases\" key.\n",
    "    \n",
    "    Returns:\n",
    "    list: A list of phrases extracted from the JSON structure.\n",
    "    \"\"\"\n",
    "    # Remove markdown code block markers\n",
    "    json_string = re.sub(r'```(?:json)?\\s*|\\s*```', '', json_string)\n",
    "\n",
    "    # Find the JSON part in the string using regex\n",
    "    json_match = re.search(r'\\{.*\\}', json_string, re.DOTALL)\n",
    "    \n",
    "    if json_match:\n",
    "        json_data = json_match.group(0)\n",
    "        try:\n",
    "            parsed_data = json.loads(json_data)\n",
    "            # Use \"phrases\" key instead of \"converted_phrases\"\n",
    "            return parsed_data.get(\"phrases\", [])\n",
    "        except json.JSONDecodeError:\n",
    "            return []\n",
    "    else:\n",
    "        return []\n"
   ]
  },
  {
   "cell_type": "code",
   "execution_count": 8,
   "metadata": {},
   "outputs": [
    {
     "data": {
      "text/plain": [
       "['Luis comenta que la automatización está reemplazando trabajos repetitivos.',\n",
       " 'Luis menciona que la automatización afecta la motivación y competencia de los trabajadores.']"
      ]
     },
     "execution_count": 8,
     "metadata": {},
     "output_type": "execute_result"
    }
   ],
   "source": [
    "extract_phrases_from_json(rag_phrases_json)"
   ]
  },
  {
   "cell_type": "code",
   "execution_count": null,
   "metadata": {},
   "outputs": [],
   "source": []
  }
 ],
 "metadata": {
  "kernelspec": {
   "display_name": "STAR",
   "language": "python",
   "name": "python3"
  },
  "language_info": {
   "codemirror_mode": {
    "name": "ipython",
    "version": 3
   },
   "file_extension": ".py",
   "mimetype": "text/x-python",
   "name": "python",
   "nbconvert_exporter": "python",
   "pygments_lexer": "ipython3",
   "version": "3.10.15"
  }
 },
 "nbformat": 4,
 "nbformat_minor": 2
}
