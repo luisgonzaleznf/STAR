{
 "cells": [
  {
   "cell_type": "code",
   "execution_count": null,
   "metadata": {},
   "outputs": [
    {
     "name": "stdout",
     "output_type": "stream",
     "text": [
      "Generate Grok initial message.\n",
      "Initial message generated.\n"
     ]
    }
   ],
   "source": [
    "### INITIAL MESSAGE WITH GROK ###\n",
    "import sys\n",
    "sys.path.append('/mnt/c/Users/luisg/Desktop/STAR/STAR/scripts')\n",
    "\n",
    "# Now you can import grok as if it's in the same directory\n",
    "import grok\n",
    "    \n",
    "print(\"Generate Grok initial message.\")\n",
    "\n",
    "# Example usage\n",
    "client = grok.initialize_grok_api()\n",
    "\n",
    "# Extract summary from the folder\n",
    "summary_path = \"/mnt/c/Users/luisg/Desktop/STAR/STAR/examples/conversation_sample_2/chunks/summary.txt\"\n",
    "with open(summary_path, \"r\") as file:\n",
    "    summary = file.read()\n",
    "\n",
    "init_message = grok.generate_RAG_initial_message(client, summary)\n",
    "    \n",
    "print(\"Initial message generated.\")"
   ]
  },
  {
   "cell_type": "code",
   "execution_count": 5,
   "metadata": {},
   "outputs": [
    {
     "name": "stdout",
     "output_type": "stream",
     "text": [
      "¡Hola! Soy un chatbot basado en el sistema RAG, diseñado para ayudarte a entender y explorar temas complejos a través de conversaciones previamente transcritas. Aquí tienes un resumen de lo que puedo hacer:\n",
      "\n",
      "- **Proporcionar Información:** Puedo buscar y ofrecerte detalles específicos de la conversación sobre la importancia de las carreras STEM, la clasificación de estudiantes y trabajadores, el impacto de la tecnología y la automatización, y las posibles soluciones políticas.\n",
      "\n",
      "- **Responder Preguntas:** Si tienes preguntas sobre los temas discutidos, como la desigualdad de género en STEM o las políticas para motivar a los trabajadores, estoy aquí para ayudarte.\n",
      "\n",
      "- **Ofrecer Perspectivas:** Puedo darte un resumen de las opiniones y conclusiones de Lidia y Luis respecto a cómo las empresas y el estado deben adaptarse a los cambios en el mercado laboral.\n",
      "\n",
      "¿Hay algo específico sobre la conversación entre Lidia y Luis que te gustaría explorar o saber más?\n"
     ]
    }
   ],
   "source": [
    "print(init_message)"
   ]
  }
 ],
 "metadata": {
  "kernelspec": {
   "display_name": "STAR",
   "language": "python",
   "name": "python3"
  },
  "language_info": {
   "codemirror_mode": {
    "name": "ipython",
    "version": 3
   },
   "file_extension": ".py",
   "mimetype": "text/x-python",
   "name": "python",
   "nbconvert_exporter": "python",
   "pygments_lexer": "ipython3",
   "version": "3.10.15"
  }
 },
 "nbformat": 4,
 "nbformat_minor": 2
}
