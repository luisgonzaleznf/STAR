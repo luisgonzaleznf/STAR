{
 "cells": [
  {
   "cell_type": "code",
   "execution_count": 1,
   "metadata": {},
   "outputs": [],
   "source": [
    "import os\n",
    "from dotenv import load_dotenv\n",
    "import openai\n",
    "\n",
    "# Load environment variables from .env file\n",
    "load_dotenv()\n",
    "\n",
    "# Access the OpenAI API key\n",
    "openai_api_key = os.getenv('XAI_API_KEY')\n",
    "\n",
    "model=\"grok-beta\"\n",
    "\n",
    "XAI_API_KEY = os.getenv(\"XAI_API_KEY\")\n",
    "openai.api_key = XAI_API_KEY\n",
    "\n",
    "client = openai.OpenAI(api_key=XAI_API_KEY)\n",
    "\n",
    "client.base_url = \"https://api.x.ai/v1\""
   ]
  },
  {
   "cell_type": "code",
   "execution_count": 4,
   "metadata": {},
   "outputs": [
    {
     "name": "stdout",
     "output_type": "stream",
     "text": [
      "{\n",
      "  \"id\": \"2970f23f-aaa5-4ec3-abb8-33ad13d56b5c\",\n",
      "  \"choices\": [\n",
      "    {\n",
      "      \"finish_reason\": \"stop\",\n",
      "      \"index\": 0,\n",
      "      \"logprobs\": null,\n",
      "      \"message\": {\n",
      "        \"content\": \"Hello there! I'm not actually GPT-4, I'm Grok, the humorous AI built by xAI with inspirations from the Hitchhiker's Guide to the Galaxy and JARVIS from Iron Man. I'm here to answer your questions with a bit of wit and maximal helpfulness, and I'm not afraid to tackle those spicy questions that other AIs might shy away from. What's on your mind?\",\n",
      "        \"refusal\": null,\n",
      "        \"role\": \"assistant\",\n",
      "        \"audio\": null,\n",
      "        \"function_call\": null,\n",
      "        \"tool_calls\": null\n",
      "      }\n",
      "    }\n",
      "  ],\n",
      "  \"created\": 1731245948,\n",
      "  \"model\": \"grok-beta\",\n",
      "  \"object\": \"chat.completion\",\n",
      "  \"service_tier\": null,\n",
      "  \"system_fingerprint\": \"fp_98261732b5\",\n",
      "  \"usage\": {\n",
      "    \"completion_tokens\": 86,\n",
      "    \"prompt_tokens\": 12,\n",
      "    \"total_tokens\": 98,\n",
      "    \"completion_tokens_details\": null,\n",
      "    \"prompt_tokens_details\": null\n",
      "  }\n",
      "}\n"
     ]
    }
   ],
   "source": [
    "message = \"Hello, GPT-4!\"\n",
    "\n",
    "try:\n",
    "    completion = client.chat.completions.create(\n",
    "        model=model,\n",
    "        messages=[\n",
    "            {\"role\": \"user\", \"content\": message}\n",
    "        ]\n",
    "    )\n",
    "    print(completion.model_dump_json(indent=2))\n",
    "except Exception as e:\n",
    "    print(f\"An error occurred: {e}\")"
   ]
  },
  {
   "cell_type": "markdown",
   "metadata": {},
   "source": [
    "## Summary"
   ]
  },
  {
   "cell_type": "code",
   "execution_count": 21,
   "metadata": {},
   "outputs": [],
   "source": [
    "prompt_intro = \"\"\"Summarize this conversation or talk transcription, focusing on the main ideas, topics discussed, and any conclusions or next steps presented. Provide additional context about the conversation using the metadata of the audio file:\n",
    "\n",
    "- Include the length of the audio, formatted in hours and minutes (e.g., 1h 20m).\n",
    "- Specify the number of distinct speakers involved.\n",
    "- Indicate the language in which the conversation took place.\n",
    "\n",
    "Present the summary in a concise and easy-to-read format.\n",
    "\n",
    "\"\"\""
   ]
  },
  {
   "cell_type": "code",
   "execution_count": 22,
   "metadata": {},
   "outputs": [],
   "source": [
    "prompt_metadata = \"\"\"Audio Metadata:\n",
    "\n",
    "Duration: 00:02:13 h\n",
    "Number of speakers: 2\n",
    "Language: english\n",
    "\n",
    "Transcription:\n",
    "\n",
    "\"\"\""
   ]
  },
  {
   "cell_type": "code",
   "execution_count": 27,
   "metadata": {},
   "outputs": [
    {
     "name": "stdout",
     "output_type": "stream",
     "text": [
      "SPEAKER_01 (0:00.00 - 0:17.00):  So, what's new Mark? How is your new job going?\n",
      "SPEAKER_00 (0:18.00 - 0:28.26):  To be honest, I can't complain. I really love the company that I am working for. My co-workers are all really  friendly and helpful. They really help me feel welcome. It's a really energetic and  fun atmosphere. My boss is hilarious. And he's really flexible.  Really? How so?  He allows me to come in when I want  and make my own hours.  I can also leave early if I start early.  There is no real dress code either.  I can wear jeans and a t-shirt if I want.  I can even wear shorts in the summer.\n",
      "SPEAKER_01 (1:07.31 - 1:15.64):  Wow! It sounds really cool. I can't stand wearing a suit every day.  Which do you prefer? Working late or finishing early?\n",
      "SPEAKER_00 (1:20.95 - 1:46.00):  I prefer finishing early. I really enjoy the morning. I love getting up early and going for a run. There am most alert in the evenings.\n",
      "SPEAKER_01 (1:47.00 - 1:49.00):  I'm a real night owl.\n",
      "SPEAKER_00 (1:53.00 - 1:55.00):  Well, you know what they say.  The early bird catches the worm.\n",
      "SPEAKER_01 (1:59.00 - 2:01.00):  You know, you could be right.  Maybe I will try to go to bed a little earlier tonight.\n",
      "\n"
     ]
    }
   ],
   "source": [
    "filename = \"conversation_sample_2\"\n",
    "\n",
    "# Reading the transcription from the specified file path\n",
    "file_path = f\"/mnt/c/Users/luisg/Desktop/STAR/STAR/transcription/{filename}.txt\"  # Replace with the actual filename variable\n",
    "try:\n",
    "    with open(file_path, 'r', encoding='utf-8') as file:\n",
    "        prompt_transcription = file.read()\n",
    "    prompt_transcription  # Displaying content to verify successful read\n",
    "except FileNotFoundError:\n",
    "    prompt_transcription = \"File not found. Please check the file path and try again.\"\n",
    "print(prompt_transcription)"
   ]
  },
  {
   "cell_type": "code",
   "execution_count": 30,
   "metadata": {},
   "outputs": [
    {
     "name": "stdout",
     "output_type": "stream",
     "text": [
      "Summarize this conversation or talk transcription, focusing on the main ideas, topics discussed, and any conclusions or next steps presented. Provide additional context about the conversation using the metadata of the audio file:\n",
      "\n",
      "- Include the length of the audio, formatted in hours and minutes (e.g., 1h 20m).\n",
      "- Specify the number of distinct speakers involved.\n",
      "- Indicate the language in which the conversation took place.\n",
      "\n",
      "Present the summary in a concise and easy-to-read format.\n",
      "\n",
      "Audio Metadata:\n",
      "\n",
      "Duration: 00:02:13 h\n",
      "Number of speakers: 2\n",
      "Language: english\n",
      "\n",
      "Transcription:\n",
      "\n",
      "SPEAKER_01 (0:00.00 - 0:17.00):  So, what's new Mark? How is your new job going?\n",
      "SPEAKER_00 (0:18.00 - 0:28.26):  To be honest, I can't complain. I really love the company that I am working for. My co-workers are all really  friendly and helpful. They really help me feel welcome. It's a really energetic and  fun atmosphere. My boss is hilarious. And he's really flexible.  Really? How so?  He allows me to come in when I want  and make my own hours.  I can also leave early if I start early.  There is no real dress code either.  I can wear jeans and a t-shirt if I want.  I can even wear shorts in the summer.\n",
      "SPEAKER_01 (1:07.31 - 1:15.64):  Wow! It sounds really cool. I can't stand wearing a suit every day.  Which do you prefer? Working late or finishing early?\n",
      "SPEAKER_00 (1:20.95 - 1:46.00):  I prefer finishing early. I really enjoy the morning. I love getting up early and going for a run. There am most alert in the evenings.\n",
      "SPEAKER_01 (1:47.00 - 1:49.00):  I'm a real night owl.\n",
      "SPEAKER_00 (1:53.00 - 1:55.00):  Well, you know what they say.  The early bird catches the worm.\n",
      "SPEAKER_01 (1:59.00 - 2:01.00):  You know, you could be right.  Maybe I will try to go to bed a little earlier tonight.\n",
      "\n"
     ]
    }
   ],
   "source": [
    "message = prompt_intro + prompt_metadata + prompt_transcription\n",
    "print(message)"
   ]
  },
  {
   "cell_type": "code",
   "execution_count": null,
   "metadata": {},
   "outputs": [
    {
     "name": "stdout",
     "output_type": "stream",
     "text": [
      "{\n",
      "  \"id\": \"51e7c251-82d5-4641-a099-c96f546bcd35\",\n",
      "  \"choices\": [\n",
      "    {\n",
      "      \"finish_reason\": \"stop\",\n",
      "      \"index\": 0,\n",
      "      \"logprobs\": null,\n",
      "      \"message\": {\n",
      "        \"content\": \"**Summary:**\\n\\nIn a brief 2-minute and 13-second conversation in English between two speakers, one speaker, Mark, discusses his positive experience at his new job:\\n\\n- **Main Topics Discussed:**\\n  - **Work Environment:** Mark appreciates the friendly and helpful co-workers and the energetic atmosphere.\\n  - **Flexibility:** His boss allows flexible working hours and a relaxed dress code, which Mark enjoys.\\n  - **Daily Routine:** Mark prefers finishing work early to make time for morning activities like running, as he feels most alert in the morning.\\n\\n- **Personal Preferences:**\\n  - Mark enjoys the flexibility to manage his own schedule, particularly starting early to finish early.\\n  - The other speaker expresses a preference for late working hours but considers adjusting his sleep schedule after hearing about Mark's positive morning routine.\\n\\n- **Conclusion/Next Steps:**\\n  - The conversation ends with the other speaker contemplating going to bed earlier to possibly adopt a morning routine.\\n\\n**Additional Context:**\\n- **Duration:** 2m 13s\\n- **Number of Speakers:** 2\\n- **Language:** English\\n\\nThis conversation highlights the importance of work-life balance and how a flexible work environment can enhance job satisfaction. It also touches on personal lifestyle choices regarding sleep and work schedules.\",\n",
      "        \"refusal\": null,\n",
      "        \"role\": \"assistant\",\n",
      "        \"audio\": null,\n",
      "        \"function_call\": null,\n",
      "        \"tool_calls\": null\n",
      "      }\n",
      "    }\n",
      "  ],\n",
      "  \"created\": 1731250818,\n",
      "  \"model\": \"grok-beta\",\n",
      "  \"object\": \"chat.completion\",\n",
      "  \"service_tier\": null,\n",
      "  \"system_fingerprint\": \"fp_98261732b5\",\n",
      "  \"usage\": {\n",
      "    \"completion_tokens\": 256,\n",
      "    \"prompt_tokens\": 551,\n",
      "    \"total_tokens\": 807,\n",
      "    \"completion_tokens_details\": null,\n",
      "    \"prompt_tokens_details\": null\n",
      "  }\n",
      "}\n"
     ]
    }
   ],
   "source": [
    "try:\n",
    "    completion = client.chat.completions.create(\n",
    "        model=model,\n",
    "        messages=[\n",
    "            {\"role\": \"user\", \"content\": message}\n",
    "        ]\n",
    "    )\n",
    "    print(completion.model_dump_json(indent=2))\n",
    "except Exception as e:\n",
    "    print(f\"An error occurred: {e}\")"
   ]
  },
  {
   "cell_type": "code",
   "execution_count": 41,
   "metadata": {},
   "outputs": [
    {
     "name": "stdout",
     "output_type": "stream",
     "text": [
      "**Summary:**\n",
      "\n",
      "In a brief 2-minute and 13-second conversation in English between two speakers, one speaker, Mark, discusses his positive experience at his new job:\n",
      "\n",
      "- **Main Topics Discussed:**\n",
      "  - **Work Environment:** Mark appreciates the friendly and helpful co-workers and the energetic atmosphere.\n",
      "  - **Flexibility:** His boss allows flexible working hours and a relaxed dress code, which Mark enjoys.\n",
      "  - **Daily Routine:** Mark prefers finishing work early to make time for morning activities like running, as he feels most alert in the morning.\n",
      "\n",
      "- **Personal Preferences:**\n",
      "  - Mark enjoys the flexibility to manage his own schedule, particularly starting early to finish early.\n",
      "  - The other speaker expresses a preference for late working hours but considers adjusting his sleep schedule after hearing about Mark's positive morning routine.\n",
      "\n",
      "- **Conclusion/Next Steps:**\n",
      "  - The conversation ends with the other speaker contemplating going to bed earlier to possibly adopt a morning routine.\n",
      "\n",
      "**Additional Context:**\n",
      "- **Duration:** 2m 13s\n",
      "- **Number of Speakers:** 2\n",
      "- **Language:** English\n",
      "\n",
      "This conversation highlights the importance of work-life balance and how a flexible work environment can enhance job satisfaction. It also touches on personal lifestyle choices regarding sleep and work schedules.\n"
     ]
    }
   ],
   "source": [
    "import json\n",
    "data = json.loads(completion.model_dump_json(indent=2))\n",
    "message_content = data[\"choices\"][0][\"message\"][\"content\"]\n",
    "print(message_content)"
   ]
  },
  {
   "cell_type": "code",
   "execution_count": 42,
   "metadata": {},
   "outputs": [
    {
     "name": "stdout",
     "output_type": "stream",
     "text": [
      "Message content saved to /mnt/c/Users/luisg/Desktop/STAR/STAR/transcription/conversation_sample_2_summary.txt\n"
     ]
    }
   ],
   "source": [
    "# Define the full path for the output file\n",
    "output_path = f\"/mnt/c/Users/luisg/Desktop/STAR/STAR/transcription/{filename}_summary.txt\"\n",
    "\n",
    "# Write the message content to the specified file\n",
    "with open(output_path, \"w\") as file:\n",
    "    file.write(message_content)\n",
    "\n",
    "print(f\"Message content saved to {output_path}\")"
   ]
  }
 ],
 "metadata": {
  "kernelspec": {
   "display_name": "STAR",
   "language": "python",
   "name": "python3"
  },
  "language_info": {
   "codemirror_mode": {
    "name": "ipython",
    "version": 3
   },
   "file_extension": ".py",
   "mimetype": "text/x-python",
   "name": "python",
   "nbconvert_exporter": "python",
   "pygments_lexer": "ipython3",
   "version": "3.10.15"
  }
 },
 "nbformat": 4,
 "nbformat_minor": 2
}
