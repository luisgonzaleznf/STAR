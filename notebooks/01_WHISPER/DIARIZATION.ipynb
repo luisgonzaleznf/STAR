{
 "cells": [
  {
   "cell_type": "code",
   "execution_count": 1,
   "metadata": {},
   "outputs": [
    {
     "name": "stdout",
     "output_type": "stream",
     "text": [
      "Requirement already satisfied: pip in /home/luis/anaconda3/envs/STAR/lib/python3.10/site-packages (24.3.1)\n",
      "Requirement already satisfied: transformers in /home/luis/anaconda3/envs/STAR/lib/python3.10/site-packages (4.46.2)\n",
      "Requirement already satisfied: accelerate in /home/luis/anaconda3/envs/STAR/lib/python3.10/site-packages (1.1.0)\n",
      "Requirement already satisfied: datasets[audio] in /home/luis/anaconda3/envs/STAR/lib/python3.10/site-packages (3.1.0)\n",
      "Requirement already satisfied: filelock in /home/luis/anaconda3/envs/STAR/lib/python3.10/site-packages (from transformers) (3.16.1)\n",
      "Requirement already satisfied: huggingface-hub<1.0,>=0.23.2 in /home/luis/anaconda3/envs/STAR/lib/python3.10/site-packages (from transformers) (0.26.2)\n",
      "Requirement already satisfied: numpy>=1.17 in /home/luis/anaconda3/envs/STAR/lib/python3.10/site-packages (from transformers) (2.0.2)\n",
      "Requirement already satisfied: packaging>=20.0 in /home/luis/anaconda3/envs/STAR/lib/python3.10/site-packages (from transformers) (24.1)\n",
      "Requirement already satisfied: pyyaml>=5.1 in /home/luis/anaconda3/envs/STAR/lib/python3.10/site-packages (from transformers) (6.0.2)\n",
      "Requirement already satisfied: regex!=2019.12.17 in /home/luis/anaconda3/envs/STAR/lib/python3.10/site-packages (from transformers) (2024.9.11)\n",
      "Requirement already satisfied: requests in /home/luis/anaconda3/envs/STAR/lib/python3.10/site-packages (from transformers) (2.32.3)\n",
      "Requirement already satisfied: safetensors>=0.4.1 in /home/luis/anaconda3/envs/STAR/lib/python3.10/site-packages (from transformers) (0.4.5)\n",
      "Requirement already satisfied: tokenizers<0.21,>=0.20 in /home/luis/anaconda3/envs/STAR/lib/python3.10/site-packages (from transformers) (0.20.3)\n",
      "Requirement already satisfied: tqdm>=4.27 in /home/luis/anaconda3/envs/STAR/lib/python3.10/site-packages (from transformers) (4.67.0)\n",
      "Requirement already satisfied: pyarrow>=15.0.0 in /home/luis/anaconda3/envs/STAR/lib/python3.10/site-packages (from datasets[audio]) (18.0.0)\n",
      "Requirement already satisfied: dill<0.3.9,>=0.3.0 in /home/luis/anaconda3/envs/STAR/lib/python3.10/site-packages (from datasets[audio]) (0.3.8)\n",
      "Requirement already satisfied: pandas in /home/luis/anaconda3/envs/STAR/lib/python3.10/site-packages (from datasets[audio]) (2.2.3)\n",
      "Requirement already satisfied: xxhash in /home/luis/anaconda3/envs/STAR/lib/python3.10/site-packages (from datasets[audio]) (3.5.0)\n",
      "Requirement already satisfied: multiprocess<0.70.17 in /home/luis/anaconda3/envs/STAR/lib/python3.10/site-packages (from datasets[audio]) (0.70.16)\n",
      "Requirement already satisfied: fsspec<=2024.9.0,>=2023.1.0 in /home/luis/anaconda3/envs/STAR/lib/python3.10/site-packages (from fsspec[http]<=2024.9.0,>=2023.1.0->datasets[audio]) (2024.9.0)\n",
      "Requirement already satisfied: aiohttp in /home/luis/anaconda3/envs/STAR/lib/python3.10/site-packages (from datasets[audio]) (3.10.10)\n",
      "Requirement already satisfied: soundfile>=0.12.1 in /home/luis/anaconda3/envs/STAR/lib/python3.10/site-packages (from datasets[audio]) (0.12.1)\n",
      "Requirement already satisfied: librosa in /home/luis/anaconda3/envs/STAR/lib/python3.10/site-packages (from datasets[audio]) (0.10.2.post1)\n",
      "Requirement already satisfied: soxr>=0.4.0 in /home/luis/anaconda3/envs/STAR/lib/python3.10/site-packages (from datasets[audio]) (0.5.0.post1)\n",
      "Requirement already satisfied: psutil in /home/luis/anaconda3/envs/STAR/lib/python3.10/site-packages (from accelerate) (5.9.0)\n",
      "Requirement already satisfied: torch>=1.10.0 in /home/luis/anaconda3/envs/STAR/lib/python3.10/site-packages (from accelerate) (2.5.1)\n",
      "Requirement already satisfied: aiohappyeyeballs>=2.3.0 in /home/luis/anaconda3/envs/STAR/lib/python3.10/site-packages (from aiohttp->datasets[audio]) (2.4.3)\n",
      "Requirement already satisfied: aiosignal>=1.1.2 in /home/luis/anaconda3/envs/STAR/lib/python3.10/site-packages (from aiohttp->datasets[audio]) (1.3.1)\n",
      "Requirement already satisfied: attrs>=17.3.0 in /home/luis/anaconda3/envs/STAR/lib/python3.10/site-packages (from aiohttp->datasets[audio]) (24.2.0)\n",
      "Requirement already satisfied: frozenlist>=1.1.1 in /home/luis/anaconda3/envs/STAR/lib/python3.10/site-packages (from aiohttp->datasets[audio]) (1.5.0)\n",
      "Requirement already satisfied: multidict<7.0,>=4.5 in /home/luis/anaconda3/envs/STAR/lib/python3.10/site-packages (from aiohttp->datasets[audio]) (6.1.0)\n",
      "Requirement already satisfied: yarl<2.0,>=1.12.0 in /home/luis/anaconda3/envs/STAR/lib/python3.10/site-packages (from aiohttp->datasets[audio]) (1.17.1)\n",
      "Requirement already satisfied: async-timeout<5.0,>=4.0 in /home/luis/anaconda3/envs/STAR/lib/python3.10/site-packages (from aiohttp->datasets[audio]) (4.0.3)\n",
      "Requirement already satisfied: typing-extensions>=3.7.4.3 in /home/luis/anaconda3/envs/STAR/lib/python3.10/site-packages (from huggingface-hub<1.0,>=0.23.2->transformers) (4.12.2)\n",
      "Requirement already satisfied: charset-normalizer<4,>=2 in /home/luis/anaconda3/envs/STAR/lib/python3.10/site-packages (from requests->transformers) (3.4.0)\n",
      "Requirement already satisfied: idna<4,>=2.5 in /home/luis/anaconda3/envs/STAR/lib/python3.10/site-packages (from requests->transformers) (3.10)\n",
      "Requirement already satisfied: urllib3<3,>=1.21.1 in /home/luis/anaconda3/envs/STAR/lib/python3.10/site-packages (from requests->transformers) (2.2.3)\n",
      "Requirement already satisfied: certifi>=2017.4.17 in /home/luis/anaconda3/envs/STAR/lib/python3.10/site-packages (from requests->transformers) (2024.8.30)\n",
      "Requirement already satisfied: cffi>=1.0 in /home/luis/anaconda3/envs/STAR/lib/python3.10/site-packages (from soundfile>=0.12.1->datasets[audio]) (1.17.1)\n",
      "Requirement already satisfied: networkx in /home/luis/anaconda3/envs/STAR/lib/python3.10/site-packages (from torch>=1.10.0->accelerate) (3.4.2)\n",
      "Requirement already satisfied: jinja2 in /home/luis/anaconda3/envs/STAR/lib/python3.10/site-packages (from torch>=1.10.0->accelerate) (3.1.4)\n",
      "Requirement already satisfied: nvidia-cuda-nvrtc-cu12==12.4.127 in /home/luis/anaconda3/envs/STAR/lib/python3.10/site-packages (from torch>=1.10.0->accelerate) (12.4.127)\n",
      "Requirement already satisfied: nvidia-cuda-runtime-cu12==12.4.127 in /home/luis/anaconda3/envs/STAR/lib/python3.10/site-packages (from torch>=1.10.0->accelerate) (12.4.127)\n",
      "Requirement already satisfied: nvidia-cuda-cupti-cu12==12.4.127 in /home/luis/anaconda3/envs/STAR/lib/python3.10/site-packages (from torch>=1.10.0->accelerate) (12.4.127)\n",
      "Requirement already satisfied: nvidia-cudnn-cu12==9.1.0.70 in /home/luis/anaconda3/envs/STAR/lib/python3.10/site-packages (from torch>=1.10.0->accelerate) (9.1.0.70)\n",
      "Requirement already satisfied: nvidia-cublas-cu12==12.4.5.8 in /home/luis/anaconda3/envs/STAR/lib/python3.10/site-packages (from torch>=1.10.0->accelerate) (12.4.5.8)\n",
      "Requirement already satisfied: nvidia-cufft-cu12==11.2.1.3 in /home/luis/anaconda3/envs/STAR/lib/python3.10/site-packages (from torch>=1.10.0->accelerate) (11.2.1.3)\n",
      "Requirement already satisfied: nvidia-curand-cu12==10.3.5.147 in /home/luis/anaconda3/envs/STAR/lib/python3.10/site-packages (from torch>=1.10.0->accelerate) (10.3.5.147)\n",
      "Requirement already satisfied: nvidia-cusolver-cu12==11.6.1.9 in /home/luis/anaconda3/envs/STAR/lib/python3.10/site-packages (from torch>=1.10.0->accelerate) (11.6.1.9)\n",
      "Requirement already satisfied: nvidia-cusparse-cu12==12.3.1.170 in /home/luis/anaconda3/envs/STAR/lib/python3.10/site-packages (from torch>=1.10.0->accelerate) (12.3.1.170)\n",
      "Requirement already satisfied: nvidia-nccl-cu12==2.21.5 in /home/luis/anaconda3/envs/STAR/lib/python3.10/site-packages (from torch>=1.10.0->accelerate) (2.21.5)\n",
      "Requirement already satisfied: nvidia-nvtx-cu12==12.4.127 in /home/luis/anaconda3/envs/STAR/lib/python3.10/site-packages (from torch>=1.10.0->accelerate) (12.4.127)\n",
      "Requirement already satisfied: nvidia-nvjitlink-cu12==12.4.127 in /home/luis/anaconda3/envs/STAR/lib/python3.10/site-packages (from torch>=1.10.0->accelerate) (12.4.127)\n",
      "Requirement already satisfied: triton==3.1.0 in /home/luis/anaconda3/envs/STAR/lib/python3.10/site-packages (from torch>=1.10.0->accelerate) (3.1.0)\n",
      "Requirement already satisfied: sympy==1.13.1 in /home/luis/anaconda3/envs/STAR/lib/python3.10/site-packages (from torch>=1.10.0->accelerate) (1.13.1)\n",
      "Requirement already satisfied: mpmath<1.4,>=1.1.0 in /home/luis/anaconda3/envs/STAR/lib/python3.10/site-packages (from sympy==1.13.1->torch>=1.10.0->accelerate) (1.3.0)\n",
      "Requirement already satisfied: audioread>=2.1.9 in /home/luis/anaconda3/envs/STAR/lib/python3.10/site-packages (from librosa->datasets[audio]) (3.0.1)\n",
      "Requirement already satisfied: scipy>=1.2.0 in /home/luis/anaconda3/envs/STAR/lib/python3.10/site-packages (from librosa->datasets[audio]) (1.14.1)\n",
      "Requirement already satisfied: scikit-learn>=0.20.0 in /home/luis/anaconda3/envs/STAR/lib/python3.10/site-packages (from librosa->datasets[audio]) (1.5.2)\n",
      "Requirement already satisfied: joblib>=0.14 in /home/luis/anaconda3/envs/STAR/lib/python3.10/site-packages (from librosa->datasets[audio]) (1.4.2)\n",
      "Requirement already satisfied: decorator>=4.3.0 in /home/luis/anaconda3/envs/STAR/lib/python3.10/site-packages (from librosa->datasets[audio]) (5.1.1)\n",
      "Requirement already satisfied: numba>=0.51.0 in /home/luis/anaconda3/envs/STAR/lib/python3.10/site-packages (from librosa->datasets[audio]) (0.60.0)\n",
      "Requirement already satisfied: pooch>=1.1 in /home/luis/anaconda3/envs/STAR/lib/python3.10/site-packages (from librosa->datasets[audio]) (1.8.2)\n",
      "Requirement already satisfied: lazy-loader>=0.1 in /home/luis/anaconda3/envs/STAR/lib/python3.10/site-packages (from librosa->datasets[audio]) (0.4)\n",
      "Requirement already satisfied: msgpack>=1.0 in /home/luis/anaconda3/envs/STAR/lib/python3.10/site-packages (from librosa->datasets[audio]) (1.1.0)\n",
      "Requirement already satisfied: python-dateutil>=2.8.2 in /home/luis/anaconda3/envs/STAR/lib/python3.10/site-packages (from pandas->datasets[audio]) (2.9.0)\n",
      "Requirement already satisfied: pytz>=2020.1 in /home/luis/anaconda3/envs/STAR/lib/python3.10/site-packages (from pandas->datasets[audio]) (2024.2)\n",
      "Requirement already satisfied: tzdata>=2022.7 in /home/luis/anaconda3/envs/STAR/lib/python3.10/site-packages (from pandas->datasets[audio]) (2024.2)\n",
      "Requirement already satisfied: pycparser in /home/luis/anaconda3/envs/STAR/lib/python3.10/site-packages (from cffi>=1.0->soundfile>=0.12.1->datasets[audio]) (2.22)\n",
      "Requirement already satisfied: llvmlite<0.44,>=0.43.0dev0 in /home/luis/anaconda3/envs/STAR/lib/python3.10/site-packages (from numba>=0.51.0->librosa->datasets[audio]) (0.43.0)\n",
      "Requirement already satisfied: platformdirs>=2.5.0 in /home/luis/anaconda3/envs/STAR/lib/python3.10/site-packages (from pooch>=1.1->librosa->datasets[audio]) (4.3.6)\n",
      "Requirement already satisfied: six>=1.5 in /home/luis/anaconda3/envs/STAR/lib/python3.10/site-packages (from python-dateutil>=2.8.2->pandas->datasets[audio]) (1.16.0)\n",
      "Requirement already satisfied: threadpoolctl>=3.1.0 in /home/luis/anaconda3/envs/STAR/lib/python3.10/site-packages (from scikit-learn>=0.20.0->librosa->datasets[audio]) (3.5.0)\n",
      "Requirement already satisfied: propcache>=0.2.0 in /home/luis/anaconda3/envs/STAR/lib/python3.10/site-packages (from yarl<2.0,>=1.12.0->aiohttp->datasets[audio]) (0.2.0)\n",
      "Requirement already satisfied: MarkupSafe>=2.0 in /home/luis/anaconda3/envs/STAR/lib/python3.10/site-packages (from jinja2->torch>=1.10.0->accelerate) (3.0.2)\n"
     ]
    }
   ],
   "source": [
    "!pip install --upgrade pip\n",
    "!pip install --upgrade transformers datasets[audio] accelerate"
   ]
  },
  {
   "cell_type": "code",
   "execution_count": 2,
   "metadata": {},
   "outputs": [
    {
     "name": "stdout",
     "output_type": "stream",
     "text": [
      "Collecting pyannote.audio\n",
      "  Using cached pyannote.audio-3.3.2-py2.py3-none-any.whl.metadata (11 kB)\n",
      "Collecting asteroid-filterbanks>=0.4 (from pyannote.audio)\n",
      "  Using cached asteroid_filterbanks-0.4.0-py3-none-any.whl.metadata (3.3 kB)\n",
      "Requirement already satisfied: einops>=0.6.0 in /home/luis/anaconda3/envs/STAR/lib/python3.10/site-packages (from pyannote.audio) (0.8.0)\n",
      "Requirement already satisfied: huggingface-hub>=0.13.0 in /home/luis/anaconda3/envs/STAR/lib/python3.10/site-packages (from pyannote.audio) (0.26.2)\n",
      "Collecting lightning>=2.0.1 (from pyannote.audio)\n",
      "  Using cached lightning-2.4.0-py3-none-any.whl.metadata (38 kB)\n",
      "Requirement already satisfied: omegaconf<3.0,>=2.1 in /home/luis/anaconda3/envs/STAR/lib/python3.10/site-packages (from pyannote.audio) (2.3.0)\n",
      "Requirement already satisfied: pyannote.core>=5.0.0 in /home/luis/anaconda3/envs/STAR/lib/python3.10/site-packages (from pyannote.audio) (5.0.0)\n",
      "Collecting pyannote.database>=5.0.1 (from pyannote.audio)\n",
      "  Using cached pyannote.database-5.1.0-py3-none-any.whl.metadata (1.2 kB)\n",
      "Collecting pyannote.metrics>=3.2 (from pyannote.audio)\n",
      "  Using cached pyannote.metrics-3.2.1-py3-none-any.whl.metadata (1.3 kB)\n",
      "Collecting pyannote.pipeline>=3.0.1 (from pyannote.audio)\n",
      "  Using cached pyannote.pipeline-3.0.1-py3-none-any.whl.metadata (897 bytes)\n",
      "Requirement already satisfied: pytorch-metric-learning>=2.1.0 in /home/luis/anaconda3/envs/STAR/lib/python3.10/site-packages (from pyannote.audio) (2.7.0)\n",
      "Requirement already satisfied: rich>=12.0.0 in /home/luis/anaconda3/envs/STAR/lib/python3.10/site-packages (from pyannote.audio) (13.9.4)\n",
      "Requirement already satisfied: semver>=3.0.0 in /home/luis/anaconda3/envs/STAR/lib/python3.10/site-packages (from pyannote.audio) (3.0.2)\n",
      "Requirement already satisfied: soundfile>=0.12.1 in /home/luis/anaconda3/envs/STAR/lib/python3.10/site-packages (from pyannote.audio) (0.12.1)\n",
      "Collecting speechbrain>=1.0.0 (from pyannote.audio)\n",
      "  Using cached speechbrain-1.0.2-py3-none-any.whl.metadata (23 kB)\n",
      "Requirement already satisfied: tensorboardX>=2.6 in /home/luis/anaconda3/envs/STAR/lib/python3.10/site-packages (from pyannote.audio) (2.6.2.2)\n",
      "Requirement already satisfied: torch>=2.0.0 in /home/luis/anaconda3/envs/STAR/lib/python3.10/site-packages (from pyannote.audio) (2.5.1)\n",
      "Collecting torch-audiomentations>=0.11.0 (from pyannote.audio)\n",
      "  Using cached torch_audiomentations-0.11.1-py3-none-any.whl.metadata (14 kB)\n",
      "Requirement already satisfied: torchaudio>=2.2.0 in /home/luis/anaconda3/envs/STAR/lib/python3.10/site-packages (from pyannote.audio) (2.5.1)\n",
      "Requirement already satisfied: torchmetrics>=0.11.0 in /home/luis/anaconda3/envs/STAR/lib/python3.10/site-packages (from pyannote.audio) (1.5.1)\n",
      "Requirement already satisfied: numpy in /home/luis/anaconda3/envs/STAR/lib/python3.10/site-packages (from asteroid-filterbanks>=0.4->pyannote.audio) (1.26.4)\n",
      "Requirement already satisfied: typing-extensions in /home/luis/anaconda3/envs/STAR/lib/python3.10/site-packages (from asteroid-filterbanks>=0.4->pyannote.audio) (4.12.2)\n",
      "Requirement already satisfied: filelock in /home/luis/anaconda3/envs/STAR/lib/python3.10/site-packages (from huggingface-hub>=0.13.0->pyannote.audio) (3.16.1)\n",
      "Requirement already satisfied: fsspec>=2023.5.0 in /home/luis/anaconda3/envs/STAR/lib/python3.10/site-packages (from huggingface-hub>=0.13.0->pyannote.audio) (2024.9.0)\n",
      "Requirement already satisfied: packaging>=20.9 in /home/luis/anaconda3/envs/STAR/lib/python3.10/site-packages (from huggingface-hub>=0.13.0->pyannote.audio) (24.1)\n",
      "Requirement already satisfied: pyyaml>=5.1 in /home/luis/anaconda3/envs/STAR/lib/python3.10/site-packages (from huggingface-hub>=0.13.0->pyannote.audio) (6.0.2)\n",
      "Requirement already satisfied: requests in /home/luis/anaconda3/envs/STAR/lib/python3.10/site-packages (from huggingface-hub>=0.13.0->pyannote.audio) (2.32.3)\n",
      "Requirement already satisfied: tqdm>=4.42.1 in /home/luis/anaconda3/envs/STAR/lib/python3.10/site-packages (from huggingface-hub>=0.13.0->pyannote.audio) (4.67.0)\n",
      "Requirement already satisfied: lightning-utilities<2.0,>=0.10.0 in /home/luis/anaconda3/envs/STAR/lib/python3.10/site-packages (from lightning>=2.0.1->pyannote.audio) (0.11.8)\n",
      "Collecting pytorch-lightning (from lightning>=2.0.1->pyannote.audio)\n",
      "  Using cached pytorch_lightning-2.4.0-py3-none-any.whl.metadata (21 kB)\n",
      "Requirement already satisfied: antlr4-python3-runtime==4.9.* in /home/luis/anaconda3/envs/STAR/lib/python3.10/site-packages (from omegaconf<3.0,>=2.1->pyannote.audio) (4.9.3)\n",
      "Requirement already satisfied: sortedcontainers>=2.0.4 in /home/luis/anaconda3/envs/STAR/lib/python3.10/site-packages (from pyannote.core>=5.0.0->pyannote.audio) (2.4.0)\n",
      "Requirement already satisfied: scipy>=1.1 in /home/luis/anaconda3/envs/STAR/lib/python3.10/site-packages (from pyannote.core>=5.0.0->pyannote.audio) (1.14.1)\n",
      "Requirement already satisfied: pandas>=0.19 in /home/luis/anaconda3/envs/STAR/lib/python3.10/site-packages (from pyannote.database>=5.0.1->pyannote.audio) (2.2.3)\n",
      "Requirement already satisfied: typer>=0.12.1 in /home/luis/anaconda3/envs/STAR/lib/python3.10/site-packages (from pyannote.database>=5.0.1->pyannote.audio) (0.12.5)\n",
      "Requirement already satisfied: scikit-learn>=0.17.1 in /home/luis/anaconda3/envs/STAR/lib/python3.10/site-packages (from pyannote.metrics>=3.2->pyannote.audio) (1.5.2)\n",
      "Requirement already satisfied: docopt>=0.6.2 in /home/luis/anaconda3/envs/STAR/lib/python3.10/site-packages (from pyannote.metrics>=3.2->pyannote.audio) (0.6.2)\n",
      "Requirement already satisfied: tabulate>=0.7.7 in /home/luis/anaconda3/envs/STAR/lib/python3.10/site-packages (from pyannote.metrics>=3.2->pyannote.audio) (0.9.0)\n",
      "Requirement already satisfied: matplotlib>=2.0.0 in /home/luis/anaconda3/envs/STAR/lib/python3.10/site-packages (from pyannote.metrics>=3.2->pyannote.audio) (3.9.2)\n",
      "Requirement already satisfied: sympy>=1.1 in /home/luis/anaconda3/envs/STAR/lib/python3.10/site-packages (from pyannote.metrics>=3.2->pyannote.audio) (1.13.1)\n",
      "Requirement already satisfied: optuna>=3.1 in /home/luis/anaconda3/envs/STAR/lib/python3.10/site-packages (from pyannote.pipeline>=3.0.1->pyannote.audio) (4.0.0)\n",
      "Requirement already satisfied: markdown-it-py>=2.2.0 in /home/luis/anaconda3/envs/STAR/lib/python3.10/site-packages (from rich>=12.0.0->pyannote.audio) (3.0.0)\n",
      "Requirement already satisfied: pygments<3.0.0,>=2.13.0 in /home/luis/anaconda3/envs/STAR/lib/python3.10/site-packages (from rich>=12.0.0->pyannote.audio) (2.18.0)\n",
      "Requirement already satisfied: cffi>=1.0 in /home/luis/anaconda3/envs/STAR/lib/python3.10/site-packages (from soundfile>=0.12.1->pyannote.audio) (1.17.1)\n",
      "Requirement already satisfied: hyperpyyaml in /home/luis/anaconda3/envs/STAR/lib/python3.10/site-packages (from speechbrain>=1.0.0->pyannote.audio) (1.2.2)\n",
      "Requirement already satisfied: joblib in /home/luis/anaconda3/envs/STAR/lib/python3.10/site-packages (from speechbrain>=1.0.0->pyannote.audio) (1.4.2)\n",
      "Requirement already satisfied: sentencepiece in /home/luis/anaconda3/envs/STAR/lib/python3.10/site-packages (from speechbrain>=1.0.0->pyannote.audio) (0.2.0)\n",
      "Requirement already satisfied: protobuf>=3.20 in /home/luis/anaconda3/envs/STAR/lib/python3.10/site-packages (from tensorboardX>=2.6->pyannote.audio) (5.28.3)\n",
      "Requirement already satisfied: networkx in /home/luis/anaconda3/envs/STAR/lib/python3.10/site-packages (from torch>=2.0.0->pyannote.audio) (3.4.2)\n",
      "Requirement already satisfied: jinja2 in /home/luis/anaconda3/envs/STAR/lib/python3.10/site-packages (from torch>=2.0.0->pyannote.audio) (3.1.4)\n",
      "Requirement already satisfied: nvidia-cuda-nvrtc-cu12==12.4.127 in /home/luis/anaconda3/envs/STAR/lib/python3.10/site-packages (from torch>=2.0.0->pyannote.audio) (12.4.127)\n",
      "Requirement already satisfied: nvidia-cuda-runtime-cu12==12.4.127 in /home/luis/anaconda3/envs/STAR/lib/python3.10/site-packages (from torch>=2.0.0->pyannote.audio) (12.4.127)\n",
      "Requirement already satisfied: nvidia-cuda-cupti-cu12==12.4.127 in /home/luis/anaconda3/envs/STAR/lib/python3.10/site-packages (from torch>=2.0.0->pyannote.audio) (12.4.127)\n",
      "Requirement already satisfied: nvidia-cudnn-cu12==9.1.0.70 in /home/luis/anaconda3/envs/STAR/lib/python3.10/site-packages (from torch>=2.0.0->pyannote.audio) (9.1.0.70)\n",
      "Requirement already satisfied: nvidia-cublas-cu12==12.4.5.8 in /home/luis/anaconda3/envs/STAR/lib/python3.10/site-packages (from torch>=2.0.0->pyannote.audio) (12.4.5.8)\n",
      "Requirement already satisfied: nvidia-cufft-cu12==11.2.1.3 in /home/luis/anaconda3/envs/STAR/lib/python3.10/site-packages (from torch>=2.0.0->pyannote.audio) (11.2.1.3)\n",
      "Requirement already satisfied: nvidia-curand-cu12==10.3.5.147 in /home/luis/anaconda3/envs/STAR/lib/python3.10/site-packages (from torch>=2.0.0->pyannote.audio) (10.3.5.147)\n",
      "Requirement already satisfied: nvidia-cusolver-cu12==11.6.1.9 in /home/luis/anaconda3/envs/STAR/lib/python3.10/site-packages (from torch>=2.0.0->pyannote.audio) (11.6.1.9)\n",
      "Requirement already satisfied: nvidia-cusparse-cu12==12.3.1.170 in /home/luis/anaconda3/envs/STAR/lib/python3.10/site-packages (from torch>=2.0.0->pyannote.audio) (12.3.1.170)\n",
      "Requirement already satisfied: nvidia-nccl-cu12==2.21.5 in /home/luis/anaconda3/envs/STAR/lib/python3.10/site-packages (from torch>=2.0.0->pyannote.audio) (2.21.5)\n",
      "Requirement already satisfied: nvidia-nvtx-cu12==12.4.127 in /home/luis/anaconda3/envs/STAR/lib/python3.10/site-packages (from torch>=2.0.0->pyannote.audio) (12.4.127)\n",
      "Requirement already satisfied: nvidia-nvjitlink-cu12==12.4.127 in /home/luis/anaconda3/envs/STAR/lib/python3.10/site-packages (from torch>=2.0.0->pyannote.audio) (12.4.127)\n",
      "Requirement already satisfied: triton==3.1.0 in /home/luis/anaconda3/envs/STAR/lib/python3.10/site-packages (from torch>=2.0.0->pyannote.audio) (3.1.0)\n",
      "Requirement already satisfied: mpmath<1.4,>=1.1.0 in /home/luis/anaconda3/envs/STAR/lib/python3.10/site-packages (from sympy>=1.1->pyannote.metrics>=3.2->pyannote.audio) (1.3.0)\n",
      "Collecting julius<0.3,>=0.2.3 (from torch-audiomentations>=0.11.0->pyannote.audio)\n",
      "  Using cached julius-0.2.7-py3-none-any.whl\n",
      "Requirement already satisfied: librosa>=0.6.0 in /home/luis/anaconda3/envs/STAR/lib/python3.10/site-packages (from torch-audiomentations>=0.11.0->pyannote.audio) (0.10.2.post1)\n",
      "Collecting torch-pitch-shift>=1.2.2 (from torch-audiomentations>=0.11.0->pyannote.audio)\n",
      "  Using cached torch_pitch_shift-1.2.5-py3-none-any.whl.metadata (2.5 kB)\n",
      "Requirement already satisfied: pycparser in /home/luis/anaconda3/envs/STAR/lib/python3.10/site-packages (from cffi>=1.0->soundfile>=0.12.1->pyannote.audio) (2.22)\n",
      "Requirement already satisfied: aiohttp!=4.0.0a0,!=4.0.0a1 in /home/luis/anaconda3/envs/STAR/lib/python3.10/site-packages (from fsspec[http]<2026.0,>=2022.5.0->lightning>=2.0.1->pyannote.audio) (3.10.10)\n",
      "Requirement already satisfied: audioread>=2.1.9 in /home/luis/anaconda3/envs/STAR/lib/python3.10/site-packages (from librosa>=0.6.0->torch-audiomentations>=0.11.0->pyannote.audio) (3.0.1)\n",
      "Requirement already satisfied: decorator>=4.3.0 in /home/luis/anaconda3/envs/STAR/lib/python3.10/site-packages (from librosa>=0.6.0->torch-audiomentations>=0.11.0->pyannote.audio) (5.1.1)\n",
      "Requirement already satisfied: numba>=0.51.0 in /home/luis/anaconda3/envs/STAR/lib/python3.10/site-packages (from librosa>=0.6.0->torch-audiomentations>=0.11.0->pyannote.audio) (0.60.0)\n",
      "Requirement already satisfied: pooch>=1.1 in /home/luis/anaconda3/envs/STAR/lib/python3.10/site-packages (from librosa>=0.6.0->torch-audiomentations>=0.11.0->pyannote.audio) (1.8.2)\n",
      "Requirement already satisfied: soxr>=0.3.2 in /home/luis/anaconda3/envs/STAR/lib/python3.10/site-packages (from librosa>=0.6.0->torch-audiomentations>=0.11.0->pyannote.audio) (0.5.0.post1)\n",
      "Requirement already satisfied: lazy-loader>=0.1 in /home/luis/anaconda3/envs/STAR/lib/python3.10/site-packages (from librosa>=0.6.0->torch-audiomentations>=0.11.0->pyannote.audio) (0.4)\n",
      "Requirement already satisfied: msgpack>=1.0 in /home/luis/anaconda3/envs/STAR/lib/python3.10/site-packages (from librosa>=0.6.0->torch-audiomentations>=0.11.0->pyannote.audio) (1.1.0)\n",
      "Requirement already satisfied: setuptools in /home/luis/anaconda3/envs/STAR/lib/python3.10/site-packages (from lightning-utilities<2.0,>=0.10.0->lightning>=2.0.1->pyannote.audio) (75.1.0)\n",
      "Requirement already satisfied: mdurl~=0.1 in /home/luis/anaconda3/envs/STAR/lib/python3.10/site-packages (from markdown-it-py>=2.2.0->rich>=12.0.0->pyannote.audio) (0.1.2)\n",
      "Requirement already satisfied: contourpy>=1.0.1 in /home/luis/anaconda3/envs/STAR/lib/python3.10/site-packages (from matplotlib>=2.0.0->pyannote.metrics>=3.2->pyannote.audio) (1.3.0)\n",
      "Requirement already satisfied: cycler>=0.10 in /home/luis/anaconda3/envs/STAR/lib/python3.10/site-packages (from matplotlib>=2.0.0->pyannote.metrics>=3.2->pyannote.audio) (0.12.1)\n",
      "Requirement already satisfied: fonttools>=4.22.0 in /home/luis/anaconda3/envs/STAR/lib/python3.10/site-packages (from matplotlib>=2.0.0->pyannote.metrics>=3.2->pyannote.audio) (4.54.1)\n",
      "Requirement already satisfied: kiwisolver>=1.3.1 in /home/luis/anaconda3/envs/STAR/lib/python3.10/site-packages (from matplotlib>=2.0.0->pyannote.metrics>=3.2->pyannote.audio) (1.4.7)\n",
      "Requirement already satisfied: pillow>=8 in /home/luis/anaconda3/envs/STAR/lib/python3.10/site-packages (from matplotlib>=2.0.0->pyannote.metrics>=3.2->pyannote.audio) (11.0.0)\n",
      "Requirement already satisfied: pyparsing>=2.3.1 in /home/luis/anaconda3/envs/STAR/lib/python3.10/site-packages (from matplotlib>=2.0.0->pyannote.metrics>=3.2->pyannote.audio) (3.2.0)\n",
      "Requirement already satisfied: python-dateutil>=2.7 in /home/luis/anaconda3/envs/STAR/lib/python3.10/site-packages (from matplotlib>=2.0.0->pyannote.metrics>=3.2->pyannote.audio) (2.9.0)\n",
      "Requirement already satisfied: alembic>=1.5.0 in /home/luis/anaconda3/envs/STAR/lib/python3.10/site-packages (from optuna>=3.1->pyannote.pipeline>=3.0.1->pyannote.audio) (1.14.0)\n",
      "Requirement already satisfied: colorlog in /home/luis/anaconda3/envs/STAR/lib/python3.10/site-packages (from optuna>=3.1->pyannote.pipeline>=3.0.1->pyannote.audio) (6.9.0)\n",
      "Requirement already satisfied: sqlalchemy>=1.3.0 in /home/luis/anaconda3/envs/STAR/lib/python3.10/site-packages (from optuna>=3.1->pyannote.pipeline>=3.0.1->pyannote.audio) (2.0.36)\n",
      "Requirement already satisfied: pytz>=2020.1 in /home/luis/anaconda3/envs/STAR/lib/python3.10/site-packages (from pandas>=0.19->pyannote.database>=5.0.1->pyannote.audio) (2024.2)\n",
      "Requirement already satisfied: tzdata>=2022.7 in /home/luis/anaconda3/envs/STAR/lib/python3.10/site-packages (from pandas>=0.19->pyannote.database>=5.0.1->pyannote.audio) (2024.2)\n",
      "Requirement already satisfied: threadpoolctl>=3.1.0 in /home/luis/anaconda3/envs/STAR/lib/python3.10/site-packages (from scikit-learn>=0.17.1->pyannote.metrics>=3.2->pyannote.audio) (3.5.0)\n",
      "Requirement already satisfied: primePy>=1.3 in /home/luis/anaconda3/envs/STAR/lib/python3.10/site-packages (from torch-pitch-shift>=1.2.2->torch-audiomentations>=0.11.0->pyannote.audio) (1.3)\n",
      "Requirement already satisfied: click>=8.0.0 in /home/luis/anaconda3/envs/STAR/lib/python3.10/site-packages (from typer>=0.12.1->pyannote.database>=5.0.1->pyannote.audio) (8.1.7)\n",
      "Requirement already satisfied: shellingham>=1.3.0 in /home/luis/anaconda3/envs/STAR/lib/python3.10/site-packages (from typer>=0.12.1->pyannote.database>=5.0.1->pyannote.audio) (1.5.4)\n",
      "Requirement already satisfied: ruamel.yaml>=0.17.28 in /home/luis/anaconda3/envs/STAR/lib/python3.10/site-packages (from hyperpyyaml->speechbrain>=1.0.0->pyannote.audio) (0.18.6)\n",
      "Requirement already satisfied: MarkupSafe>=2.0 in /home/luis/anaconda3/envs/STAR/lib/python3.10/site-packages (from jinja2->torch>=2.0.0->pyannote.audio) (3.0.2)\n",
      "Requirement already satisfied: charset-normalizer<4,>=2 in /home/luis/anaconda3/envs/STAR/lib/python3.10/site-packages (from requests->huggingface-hub>=0.13.0->pyannote.audio) (3.4.0)\n",
      "Requirement already satisfied: idna<4,>=2.5 in /home/luis/anaconda3/envs/STAR/lib/python3.10/site-packages (from requests->huggingface-hub>=0.13.0->pyannote.audio) (3.10)\n",
      "Requirement already satisfied: urllib3<3,>=1.21.1 in /home/luis/anaconda3/envs/STAR/lib/python3.10/site-packages (from requests->huggingface-hub>=0.13.0->pyannote.audio) (2.2.3)\n",
      "Requirement already satisfied: certifi>=2017.4.17 in /home/luis/anaconda3/envs/STAR/lib/python3.10/site-packages (from requests->huggingface-hub>=0.13.0->pyannote.audio) (2024.8.30)\n",
      "Requirement already satisfied: aiohappyeyeballs>=2.3.0 in /home/luis/anaconda3/envs/STAR/lib/python3.10/site-packages (from aiohttp!=4.0.0a0,!=4.0.0a1->fsspec[http]<2026.0,>=2022.5.0->lightning>=2.0.1->pyannote.audio) (2.4.3)\n",
      "Requirement already satisfied: aiosignal>=1.1.2 in /home/luis/anaconda3/envs/STAR/lib/python3.10/site-packages (from aiohttp!=4.0.0a0,!=4.0.0a1->fsspec[http]<2026.0,>=2022.5.0->lightning>=2.0.1->pyannote.audio) (1.3.1)\n",
      "Requirement already satisfied: attrs>=17.3.0 in /home/luis/anaconda3/envs/STAR/lib/python3.10/site-packages (from aiohttp!=4.0.0a0,!=4.0.0a1->fsspec[http]<2026.0,>=2022.5.0->lightning>=2.0.1->pyannote.audio) (24.2.0)\n",
      "Requirement already satisfied: frozenlist>=1.1.1 in /home/luis/anaconda3/envs/STAR/lib/python3.10/site-packages (from aiohttp!=4.0.0a0,!=4.0.0a1->fsspec[http]<2026.0,>=2022.5.0->lightning>=2.0.1->pyannote.audio) (1.5.0)\n",
      "Requirement already satisfied: multidict<7.0,>=4.5 in /home/luis/anaconda3/envs/STAR/lib/python3.10/site-packages (from aiohttp!=4.0.0a0,!=4.0.0a1->fsspec[http]<2026.0,>=2022.5.0->lightning>=2.0.1->pyannote.audio) (6.1.0)\n",
      "Requirement already satisfied: yarl<2.0,>=1.12.0 in /home/luis/anaconda3/envs/STAR/lib/python3.10/site-packages (from aiohttp!=4.0.0a0,!=4.0.0a1->fsspec[http]<2026.0,>=2022.5.0->lightning>=2.0.1->pyannote.audio) (1.17.1)\n",
      "Requirement already satisfied: async-timeout<5.0,>=4.0 in /home/luis/anaconda3/envs/STAR/lib/python3.10/site-packages (from aiohttp!=4.0.0a0,!=4.0.0a1->fsspec[http]<2026.0,>=2022.5.0->lightning>=2.0.1->pyannote.audio) (4.0.3)\n",
      "Requirement already satisfied: Mako in /home/luis/anaconda3/envs/STAR/lib/python3.10/site-packages (from alembic>=1.5.0->optuna>=3.1->pyannote.pipeline>=3.0.1->pyannote.audio) (1.3.6)\n",
      "Requirement already satisfied: llvmlite<0.44,>=0.43.0dev0 in /home/luis/anaconda3/envs/STAR/lib/python3.10/site-packages (from numba>=0.51.0->librosa>=0.6.0->torch-audiomentations>=0.11.0->pyannote.audio) (0.43.0)\n",
      "Requirement already satisfied: platformdirs>=2.5.0 in /home/luis/anaconda3/envs/STAR/lib/python3.10/site-packages (from pooch>=1.1->librosa>=0.6.0->torch-audiomentations>=0.11.0->pyannote.audio) (4.3.6)\n",
      "Requirement already satisfied: six>=1.5 in /home/luis/anaconda3/envs/STAR/lib/python3.10/site-packages (from python-dateutil>=2.7->matplotlib>=2.0.0->pyannote.metrics>=3.2->pyannote.audio) (1.16.0)\n",
      "Requirement already satisfied: ruamel.yaml.clib>=0.2.7 in /home/luis/anaconda3/envs/STAR/lib/python3.10/site-packages (from ruamel.yaml>=0.17.28->hyperpyyaml->speechbrain>=1.0.0->pyannote.audio) (0.2.12)\n",
      "Requirement already satisfied: greenlet!=0.4.17 in /home/luis/anaconda3/envs/STAR/lib/python3.10/site-packages (from sqlalchemy>=1.3.0->optuna>=3.1->pyannote.pipeline>=3.0.1->pyannote.audio) (3.1.1)\n",
      "Requirement already satisfied: propcache>=0.2.0 in /home/luis/anaconda3/envs/STAR/lib/python3.10/site-packages (from yarl<2.0,>=1.12.0->aiohttp!=4.0.0a0,!=4.0.0a1->fsspec[http]<2026.0,>=2022.5.0->lightning>=2.0.1->pyannote.audio) (0.2.0)\n",
      "Using cached pyannote.audio-3.3.2-py2.py3-none-any.whl (898 kB)\n",
      "Using cached asteroid_filterbanks-0.4.0-py3-none-any.whl (29 kB)\n",
      "Using cached lightning-2.4.0-py3-none-any.whl (810 kB)\n",
      "Using cached pyannote.database-5.1.0-py3-none-any.whl (48 kB)\n",
      "Using cached pyannote.metrics-3.2.1-py3-none-any.whl (51 kB)\n",
      "Using cached pyannote.pipeline-3.0.1-py3-none-any.whl (31 kB)\n",
      "Using cached speechbrain-1.0.2-py3-none-any.whl (824 kB)\n",
      "Using cached torch_audiomentations-0.11.1-py3-none-any.whl (50 kB)\n",
      "Using cached torch_pitch_shift-1.2.5-py3-none-any.whl (5.0 kB)\n",
      "Using cached pytorch_lightning-2.4.0-py3-none-any.whl (815 kB)\n",
      "Installing collected packages: pyannote.database, julius, asteroid-filterbanks, torch-pitch-shift, speechbrain, pytorch-lightning, pyannote.pipeline, pyannote.metrics, torch-audiomentations, lightning, pyannote.audio\n",
      "Successfully installed asteroid-filterbanks-0.4.0 julius-0.2.7 lightning-2.4.0 pyannote.audio-3.3.2 pyannote.database-5.1.0 pyannote.metrics-3.2.1 pyannote.pipeline-3.0.1 pytorch-lightning-2.4.0 speechbrain-1.0.2 torch-audiomentations-0.11.1 torch-pitch-shift-1.2.5\n"
     ]
    }
   ],
   "source": [
    "!pip install pyannote.audio"
   ]
  },
  {
   "cell_type": "code",
   "execution_count": 9,
   "metadata": {},
   "outputs": [
    {
     "name": "stdout",
     "output_type": "stream",
     "text": [
      "Collecting python-dotenv\n",
      "  Using cached python_dotenv-1.0.1-py3-none-any.whl.metadata (23 kB)\n",
      "Using cached python_dotenv-1.0.1-py3-none-any.whl (19 kB)\n",
      "Installing collected packages: python-dotenv\n",
      "Successfully installed python-dotenv-1.0.1\n"
     ]
    }
   ],
   "source": [
    "!pip install python-dotenv\n"
   ]
  },
  {
   "cell_type": "code",
   "execution_count": 10,
   "metadata": {},
   "outputs": [
    {
     "name": "stdout",
     "output_type": "stream",
     "text": [
      "Hugging Face token loaded successfully.\n"
     ]
    }
   ],
   "source": [
    "import os\n",
    "from dotenv import load_dotenv\n",
    "\n",
    "# Load environment variables from .env file\n",
    "load_dotenv()\n",
    "\n",
    "# Access the Hugging Face token\n",
    "huggingface_token = os.getenv(\"HUGGINGFACE_TOKEN\")\n",
    "\n",
    "# Check if the token was loaded correctly\n",
    "if huggingface_token:\n",
    "    print(\"Hugging Face token loaded successfully.\")\n",
    "else:\n",
    "    print(\"Failed to load Hugging Face token. Check your .env file.\")"
   ]
  },
  {
   "cell_type": "code",
   "execution_count": 21,
   "metadata": {},
   "outputs": [],
   "source": [
    "import warnings\n",
    "\n",
    "# Suppress specific warnings by category\n",
    "warnings.filterwarnings(\"ignore\")"
   ]
  },
  {
   "cell_type": "code",
   "execution_count": 20,
   "metadata": {},
   "outputs": [
    {
     "name": "stdout",
     "output_type": "stream",
     "text": [
      "Requirement already satisfied: pydub in /home/luis/anaconda3/envs/STAR/lib/python3.10/site-packages (0.25.1)\n"
     ]
    }
   ],
   "source": [
    "!pip install pydub"
   ]
  },
  {
   "cell_type": "markdown",
   "metadata": {},
   "source": [
    "## Load pyannote diarization model"
   ]
  },
  {
   "cell_type": "code",
   "execution_count": 54,
   "metadata": {},
   "outputs": [
    {
     "name": "stderr",
     "output_type": "stream",
     "text": [
      "Lightning automatically upgraded your loaded checkpoint from v1.5.4 to v2.4.0. To apply the upgrade to your files permanently, run `python -m pytorch_lightning.utilities.upgrade_checkpoint ../../../../../../../../../home/luis/.cache/torch/pyannote/models--pyannote--segmentation/snapshots/c4c8ceafcbb3a7a280c2d357aee9fbc9b0be7f9b/pytorch_model.bin`\n",
      "INFO:speechbrain.utils.fetching:Fetch hyperparams.yaml: Fetching from HuggingFace Hub 'speechbrain/spkrec-ecapa-voxceleb' if not cached\n",
      "INFO:speechbrain.utils.fetching:Fetch custom.py: Fetching from HuggingFace Hub 'speechbrain/spkrec-ecapa-voxceleb' if not cached\n"
     ]
    },
    {
     "name": "stdout",
     "output_type": "stream",
     "text": [
      "Model was trained with pyannote.audio 0.0.1, yours is 3.3.2. Bad things might happen unless you revert pyannote.audio to 0.x.\n",
      "Model was trained with torch 1.10.0+cu102, yours is 2.5.1+cu124. Bad things might happen unless you revert torch to 1.x.\n"
     ]
    },
    {
     "name": "stderr",
     "output_type": "stream",
     "text": [
      "INFO:speechbrain.utils.fetching:Fetch embedding_model.ckpt: Fetching from HuggingFace Hub 'speechbrain/spkrec-ecapa-voxceleb' if not cached\n",
      "INFO:speechbrain.utils.fetching:Fetch mean_var_norm_emb.ckpt: Fetching from HuggingFace Hub 'speechbrain/spkrec-ecapa-voxceleb' if not cached\n",
      "INFO:speechbrain.utils.fetching:Fetch classifier.ckpt: Fetching from HuggingFace Hub 'speechbrain/spkrec-ecapa-voxceleb' if not cached\n",
      "INFO:speechbrain.utils.fetching:Fetch label_encoder.txt: Fetching from HuggingFace Hub 'speechbrain/spkrec-ecapa-voxceleb' if not cached\n",
      "INFO:speechbrain.utils.parameter_transfer:Loading pretrained files for: embedding_model, mean_var_norm_emb, classifier, label_encoder\n",
      "INFO:speechbrain.utils.fetching:Fetch hyperparams.yaml: Fetching from HuggingFace Hub 'speechbrain/spkrec-ecapa-voxceleb' if not cached\n",
      "INFO:speechbrain.utils.fetching:Fetch custom.py: Fetching from HuggingFace Hub 'speechbrain/spkrec-ecapa-voxceleb' if not cached\n",
      "INFO:speechbrain.utils.fetching:Fetch embedding_model.ckpt: Fetching from HuggingFace Hub 'speechbrain/spkrec-ecapa-voxceleb' if not cached\n",
      "INFO:speechbrain.utils.fetching:Fetch mean_var_norm_emb.ckpt: Fetching from HuggingFace Hub 'speechbrain/spkrec-ecapa-voxceleb' if not cached\n",
      "INFO:speechbrain.utils.fetching:Fetch classifier.ckpt: Fetching from HuggingFace Hub 'speechbrain/spkrec-ecapa-voxceleb' if not cached\n",
      "INFO:speechbrain.utils.fetching:Fetch label_encoder.txt: Fetching from HuggingFace Hub 'speechbrain/spkrec-ecapa-voxceleb' if not cached\n",
      "INFO:speechbrain.utils.parameter_transfer:Loading pretrained files for: embedding_model, mean_var_norm_emb, classifier, label_encoder\n"
     ]
    }
   ],
   "source": [
    "from pydub import AudioSegment\n",
    "from pyannote.audio import Pipeline\n",
    "import os\n",
    "import torch\n",
    "\n",
    "# Replace 'your_huggingface_token' with your actual Hugging Face access token\n",
    "access_token = \"your_huggingface_token\"\n",
    "\n",
    "# Initialize the pipeline\n",
    "pipeline = Pipeline.from_pretrained(\"pyannote/speaker-diarization@2.1\", use_auth_token=access_token)\n",
    "\n",
    "# Check if CUDA is available and move the pipeline to GPU if it is\n",
    "if torch.cuda.is_available():\n",
    "    pipeline.to(torch.device(\"cuda\"))\n",
    "else:\n",
    "    print(\"CUDA is not available. The pipeline will run on the CPU.\")"
   ]
  },
  {
   "cell_type": "markdown",
   "metadata": {},
   "source": [
    "## Convert to wav and diarize"
   ]
  },
  {
   "cell_type": "code",
   "execution_count": 55,
   "metadata": {},
   "outputs": [
    {
     "data": {
      "text/plain": [
       "<_io.BufferedRandom name='../../audio_samples/audio_sample.wav'>"
      ]
     },
     "execution_count": 55,
     "metadata": {},
     "output_type": "execute_result"
    }
   ],
   "source": [
    "# Path to your audio file\n",
    "audio_file = \"../../audio_samples/audio_sample.mp3\"  # Replace with your audio file path\n",
    "\n",
    "# Convert mp3 to wav\n",
    "audio = AudioSegment.from_mp3(audio_file)\n",
    "wav_file = \"../../audio_samples/audio_sample.wav\"  # Define the new wav file path\n",
    "audio.export(wav_file, format=\"wav\")"
   ]
  },
  {
   "cell_type": "code",
   "execution_count": 56,
   "metadata": {},
   "outputs": [
    {
     "name": "stdout",
     "output_type": "stream",
     "text": [
      "start=1.0s stop=4.6s speaker_SPEAKER_00\n",
      "start=6.0s stop=13.5s speaker_SPEAKER_00\n",
      "start=14.3s stop=17.0s speaker_SPEAKER_01\n",
      "start=18.7s stop=21.7s speaker_SPEAKER_01\n",
      "start=23.0s stop=26.5s speaker_SPEAKER_01\n",
      "start=26.5s stop=26.7s speaker_SPEAKER_00\n",
      "start=27.7s stop=32.8s speaker_SPEAKER_00\n",
      "start=32.8s stop=32.8s speaker_SPEAKER_01\n"
     ]
    }
   ],
   "source": [
    "# Apply the pipeline to the wav file\n",
    "diarization = pipeline(wav_file)\n",
    "\n",
    "# Print the diarization results\n",
    "for turn, _, speaker in diarization.itertracks(yield_label=True):\n",
    "    print(f\"start={turn.start:.1f}s stop={turn.end:.1f}s speaker_{speaker}\")"
   ]
  },
  {
   "cell_type": "code",
   "execution_count": 57,
   "metadata": {},
   "outputs": [
    {
     "data": {
      "text/plain": [
       "[{'start': 0.99284375, 'stop': 4.55346875, 'speaker': 'SPEAKER_00'},\n",
       " {'start': 5.98784375, 'stop': 13.53096875, 'speaker': 'SPEAKER_00'},\n",
       " {'start': 14.30721875, 'stop': 17.04096875, 'speaker': 'SPEAKER_01'},\n",
       " {'start': 18.67784375, 'stop': 21.715343750000002, 'speaker': 'SPEAKER_01'},\n",
       " {'start': 22.980968750000002, 'stop': 26.52471875, 'speaker': 'SPEAKER_01'},\n",
       " {'start': 26.52471875, 'stop': 26.74409375, 'speaker': 'SPEAKER_00'},\n",
       " {'start': 27.70596875, 'stop': 32.81909375, 'speaker': 'SPEAKER_00'},\n",
       " {'start': 32.81909375, 'stop': 32.83596875, 'speaker': 'SPEAKER_01'}]"
      ]
     },
     "execution_count": 57,
     "metadata": {},
     "output_type": "execute_result"
    }
   ],
   "source": [
    "# Initialize an empty list to store the diarization entries\n",
    "diarization_list = []\n",
    "\n",
    "# Apply the pipeline to the wav file\n",
    "diarization = pipeline(wav_file)\n",
    "\n",
    "# Iterate over the diarization results and build the list of dictionaries\n",
    "for turn, _, speaker in diarization.itertracks(yield_label=True):\n",
    "    # Create a dictionary for each diarization segment\n",
    "    diarization_entry = {\n",
    "        'start': turn.start,\n",
    "        'stop': turn.end,\n",
    "        'speaker': speaker\n",
    "    }\n",
    "    # Add the dictionary to the list\n",
    "    diarization_list.append(diarization_entry)\n",
    "\n",
    "diarization_list"
   ]
  },
  {
   "cell_type": "markdown",
   "metadata": {},
   "source": [
    "## Use whisper for transcription"
   ]
  },
  {
   "cell_type": "code",
   "execution_count": 45,
   "metadata": {},
   "outputs": [],
   "source": [
    "import torch\n",
    "from transformers import AutoModelForSpeechSeq2Seq, AutoProcessor, pipeline\n",
    "\n",
    "# Set device and data types\n",
    "device = \"cuda:0\" if torch.cuda.is_available() else \"cpu\"\n",
    "torch_dtype = torch.float16 if torch.cuda.is_available() else torch.float32\n",
    "\n",
    "# Specify the model ID\n",
    "model_id = \"openai/whisper-large-v3-turbo\"\n",
    "\n",
    "# Load the model\n",
    "model = AutoModelForSpeechSeq2Seq.from_pretrained(\n",
    "    model_id, torch_dtype=torch_dtype, low_cpu_mem_usage=True, use_safetensors=True\n",
    ")\n",
    "model.to(device)\n",
    "\n",
    "# Load the processor\n",
    "processor = AutoProcessor.from_pretrained(model_id)\n",
    "\n",
    "# Create the pipeline\n",
    "pipe = pipeline(\n",
    "    \"automatic-speech-recognition\",\n",
    "    model=model,\n",
    "    tokenizer=processor.tokenizer,\n",
    "    feature_extractor=processor.feature_extractor,\n",
    "    torch_dtype=torch_dtype,\n",
    "    device=device,\n",
    ")"
   ]
  },
  {
   "cell_type": "code",
   "execution_count": 48,
   "metadata": {},
   "outputs": [
    {
     "name": "stdout",
     "output_type": "stream",
     "text": [
      "[{'timestamp': (0.0, 4.04), 'text': ' English spelling does not always indicate pronunciation.'}, {'timestamp': (5.42, 13.0), 'text': ' It was famously claimed that the word fish could be spelt G-H-O-T-I because...'}, {'timestamp': (14.36, 17.44), 'text': ' G-H in enough is pronounced F.'}, {'timestamp': (18.16, 21.64), 'text': ' O in women is pronounced I.'}, {'timestamp': (22.56, 26.68), 'text': ' T-I in motion is pronounced SH.'}, {'timestamp': (0.0, 5.0), 'text': ' So, G-H-O-T-I could be pronounced...'}, {'timestamp': (5.62, 6.0), 'text': ' Fish.'}]\n"
     ]
    }
   ],
   "source": [
    "# Transcribe an audio file directly in the pipeline call\n",
    "audio_file = \"../../audio_samples/audio_sample.mp3\"  # Replace with your audio file path\n",
    "result = pipe(audio_file, return_timestamps=True)\n",
    "print(result[\"chunks\"])  # Displays transcription with timestamps"
   ]
  },
  {
   "cell_type": "code",
   "execution_count": 59,
   "metadata": {},
   "outputs": [
    {
     "data": {
      "text/plain": [
       "[{'timestamp': (0.0, 4.04),\n",
       "  'text': ' English spelling does not always indicate pronunciation.'},\n",
       " {'timestamp': (5.42, 13.0),\n",
       "  'text': ' It was famously claimed that the word fish could be spelt G-H-O-T-I because...'},\n",
       " {'timestamp': (14.36, 17.44), 'text': ' G-H in enough is pronounced F.'},\n",
       " {'timestamp': (18.16, 21.64), 'text': ' O in women is pronounced I.'},\n",
       " {'timestamp': (22.56, 26.68), 'text': ' T-I in motion is pronounced SH.'},\n",
       " {'timestamp': (0.0, 5.0), 'text': ' So, G-H-O-T-I could be pronounced...'},\n",
       " {'timestamp': (5.62, 6.0), 'text': ' Fish.'}]"
      ]
     },
     "execution_count": 59,
     "metadata": {},
     "output_type": "execute_result"
    }
   ],
   "source": [
    "transcription = result[\"chunks\"]\n",
    "transcription"
   ]
  },
  {
   "cell_type": "markdown",
   "metadata": {},
   "source": [
    "## Combine models"
   ]
  },
  {
   "cell_type": "code",
   "execution_count": 60,
   "metadata": {},
   "outputs": [],
   "source": [
    "from collections import defaultdict\n",
    "\n",
    "def get_overlap(a_start, a_end, b_start, b_end):\n",
    "    \"\"\"Calculate the overlap duration between two time intervals.\"\"\"\n",
    "    overlap_start = max(a_start, b_start)\n",
    "    overlap_end = min(a_end, b_end)\n",
    "    return max(0.0, overlap_end - overlap_start)\n",
    "\n",
    "def assign_speakers_to_transcription(diarization, transcription):\n",
    "    \"\"\"\n",
    "    Assign speaker labels to transcription chunks based on diarization.\n",
    "\n",
    "    Parameters:\n",
    "    - diarization: List of dictionaries with keys 'start', 'stop', 'speaker'.\n",
    "    - transcription: List of dictionaries with keys 'timestamp', 'text'.\n",
    "\n",
    "    Returns:\n",
    "    - A new list of transcription chunks with an added 'speaker' key.\n",
    "    \"\"\"\n",
    "    # For each transcription chunk\n",
    "    for chunk in transcription:\n",
    "        t_start, t_end = chunk['timestamp']\n",
    "        # Keep track of overlapping durations per speaker\n",
    "        overlaps = defaultdict(float)\n",
    "        for diar in diarization:\n",
    "            d_start = diar['start']\n",
    "            d_end = diar['stop']\n",
    "            speaker = diar['speaker']\n",
    "            overlap = get_overlap(t_start, t_end, d_start, d_end)\n",
    "            if overlap > 0:\n",
    "                overlaps[speaker] += overlap\n",
    "        # Determine the speaker with the maximum overlap\n",
    "        if overlaps:\n",
    "            assigned_speaker = max(overlaps.items(), key=lambda x: x[1])[0]\n",
    "        else:\n",
    "            assigned_speaker = 'Unknown'\n",
    "        # Assign the speaker to the chunk\n",
    "        chunk['speaker'] = assigned_speaker\n",
    "    return transcription"
   ]
  },
  {
   "cell_type": "code",
   "execution_count": 62,
   "metadata": {},
   "outputs": [
    {
     "data": {
      "text/plain": [
       "[{'timestamp': (0.0, 4.04),\n",
       "  'text': ' English spelling does not always indicate pronunciation.',\n",
       "  'speaker': 'SPEAKER_00'},\n",
       " {'timestamp': (5.42, 13.0),\n",
       "  'text': ' It was famously claimed that the word fish could be spelt G-H-O-T-I because...',\n",
       "  'speaker': 'SPEAKER_00'},\n",
       " {'timestamp': (14.36, 17.44),\n",
       "  'text': ' G-H in enough is pronounced F.',\n",
       "  'speaker': 'SPEAKER_01'},\n",
       " {'timestamp': (18.16, 21.64),\n",
       "  'text': ' O in women is pronounced I.',\n",
       "  'speaker': 'SPEAKER_01'},\n",
       " {'timestamp': (22.56, 26.68),\n",
       "  'text': ' T-I in motion is pronounced SH.',\n",
       "  'speaker': 'SPEAKER_01'},\n",
       " {'timestamp': (0.0, 5.0),\n",
       "  'text': ' So, G-H-O-T-I could be pronounced...',\n",
       "  'speaker': 'SPEAKER_00'},\n",
       " {'timestamp': (5.62, 6.0), 'text': ' Fish.', 'speaker': 'SPEAKER_00'}]"
      ]
     },
     "execution_count": 62,
     "metadata": {},
     "output_type": "execute_result"
    }
   ],
   "source": [
    "combined_result = assign_speakers_to_transcription(diarization_list, transcription)\n",
    "combined_result"
   ]
  },
  {
   "cell_type": "code",
   "execution_count": 64,
   "metadata": {},
   "outputs": [
    {
     "name": "stdout",
     "output_type": "stream",
     "text": [
      "Speaker SPEAKER_00:  English spelling does not always indicate pronunciation.\n",
      "Speaker SPEAKER_00:  It was famously claimed that the word fish could be spelt G-H-O-T-I because...\n",
      "Speaker SPEAKER_01:  G-H in enough is pronounced F.\n",
      "Speaker SPEAKER_01:  O in women is pronounced I.\n",
      "Speaker SPEAKER_01:  T-I in motion is pronounced SH.\n",
      "Speaker SPEAKER_00:  So, G-H-O-T-I could be pronounced...\n",
      "Speaker SPEAKER_00:  Fish.\n"
     ]
    }
   ],
   "source": [
    "for chunk in combined_result:\n",
    "    print(f\"Speaker {chunk['speaker']}: {chunk['text']}\")"
   ]
  }
 ],
 "metadata": {
  "kernelspec": {
   "display_name": "STAR",
   "language": "python",
   "name": "python3"
  },
  "language_info": {
   "codemirror_mode": {
    "name": "ipython",
    "version": 3
   },
   "file_extension": ".py",
   "mimetype": "text/x-python",
   "name": "python",
   "nbconvert_exporter": "python",
   "pygments_lexer": "ipython3",
   "version": "3.10.15"
  }
 },
 "nbformat": 4,
 "nbformat_minor": 2
}
