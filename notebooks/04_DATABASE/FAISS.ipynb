{
 "cells": [
  {
   "cell_type": "code",
   "execution_count": 1,
   "metadata": {},
   "outputs": [
    {
     "name": "stderr",
     "output_type": "stream",
     "text": [
      "/home/luis/anaconda3/envs/STAR/lib/python3.10/site-packages/tqdm/auto.py:21: TqdmWarning: IProgress not found. Please update jupyter and ipywidgets. See https://ipywidgets.readthedocs.io/en/stable/user_install.html\n",
      "  from .autonotebook import tqdm as notebook_tqdm\n"
     ]
    }
   ],
   "source": [
    "import torch\n",
    "from transformers import AutoModel, AutoTokenizer\n",
    "\n",
    "model_name = \"BAAI/bge-base-en-v1.5\"\n",
    "tokenizer = AutoTokenizer.from_pretrained(model_name)\n",
    "model = AutoModel.from_pretrained(model_name)"
   ]
  },
  {
   "cell_type": "markdown",
   "metadata": {},
   "source": [
    "## Test with one embedding"
   ]
  },
  {
   "cell_type": "code",
   "execution_count": 2,
   "metadata": {},
   "outputs": [
    {
     "name": "stdout",
     "output_type": "stream",
     "text": [
      "Cosine Similarity: 0.5622000098228455\n"
     ]
    }
   ],
   "source": [
    "text = \"I love you\"\n",
    "text2 = \"They hate me\"\n",
    "\n",
    "inputs = tokenizer(text, return_tensors=\"pt\", padding=True, truncation=True)\n",
    "\n",
    "with torch.no_grad():\n",
    "    outputs = model(**inputs)\n",
    "    embeddings = outputs.last_hidden_state.mean(dim=1)\n",
    "\n",
    "inputs2 = tokenizer(text2, return_tensors=\"pt\", padding=True, truncation=True)\n",
    "\n",
    "with torch.no_grad():\n",
    "    outputs = model(**inputs2)\n",
    "    embeddings2 = outputs.last_hidden_state.mean(dim=1)\n",
    "\n",
    "# Assuming embeddings and embeddings2 are tensors of shape (1, hidden_dim)\n",
    "cosine_similarity = torch.nn.functional.cosine_similarity(embeddings, embeddings2, dim=1)\n",
    "\n",
    "# Print the similarity score\n",
    "print(\"Cosine Similarity:\", cosine_similarity.item())"
   ]
  },
  {
   "cell_type": "code",
   "execution_count": null,
   "metadata": {},
   "outputs": [
    {
     "name": "stdout",
     "output_type": "stream",
     "text": [
      "Indices of nearest neighbors: tensor([[ 0, -1, -1, -1, -1]])\n",
      "Distances to nearest neighbors: tensor([[ 5.6220e-01, -3.4028e+38, -3.4028e+38, -3.4028e+38, -3.4028e+38]])\n"
     ]
    }
   ],
   "source": [
    "import faiss\n",
    "import torch\n",
    "\n",
    "# Assuming embeddings and embeddings2 are PyTorch tensors on GPU\n",
    "embeddings = embeddings.contiguous()\n",
    "embeddings2 = embeddings2.contiguous()\n",
    "\n",
    "# Normalize embeddings on GPU using PyTorch\n",
    "embeddings = embeddings / embeddings.norm(dim=1, keepdim=True)\n",
    "embeddings2 = embeddings2 / embeddings2.norm(dim=1, keepdim=True)\n",
    "\n",
    "# Convert embeddings to NumPy arrays on CPU\n",
    "embeddings_np = embeddings.cpu().numpy()\n",
    "embeddings2_np = embeddings2.cpu().numpy()\n",
    "\n",
    "# Initialize GPU resources\n",
    "res = faiss.StandardGpuResources()\n",
    "\n",
    "# Create a GPU index directly\n",
    "gpu_index = faiss.GpuIndexFlatIP(res, embeddings.size(1))\n",
    "\n",
    "# Add embeddings to the index\n",
    "gpu_index.add(embeddings_np)\n",
    "\n",
    "# Perform search\n",
    "k = 5\n",
    "distances, indices = gpu_index.search(embeddings2_np, k)\n",
    "\n",
    "# Convert results to CPU tensors if needed\n",
    "distances = torch.from_numpy(distances).cpu()\n",
    "indices = torch.from_numpy(indices).cpu()\n",
    "\n",
    "print(\"Indices of nearest neighbors:\", indices)\n",
    "print(\"Distances to nearest neighbors:\", distances)"
   ]
  }
 ],
 "metadata": {
  "kernelspec": {
   "display_name": "STAR",
   "language": "python",
   "name": "python3"
  },
  "language_info": {
   "codemirror_mode": {
    "name": "ipython",
    "version": 3
   },
   "file_extension": ".py",
   "mimetype": "text/x-python",
   "name": "python",
   "nbconvert_exporter": "python",
   "pygments_lexer": "ipython3",
   "version": "3.10.15"
  }
 },
 "nbformat": 4,
 "nbformat_minor": 2
}
